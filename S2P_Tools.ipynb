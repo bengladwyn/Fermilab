{
 "cells": [
  {
   "cell_type": "code",
   "execution_count": 2,
   "metadata": {},
   "outputs": [],
   "source": [
    "import matplotlib.pyplot as plt\n",
    "import numpy as np"
   ]
  },
  {
   "cell_type": "code",
   "execution_count": 3,
   "metadata": {},
   "outputs": [],
   "source": [
    "def plot(filename):\n",
    "    frequency, s11_mag, s11_phase, s21_mag, s21_phase = parameters(filename)\n",
    "    plot_parameters(filename,frequency, s11_mag, s11_phase, s21_mag, s21_phase)"
   ]
  },
  {
   "cell_type": "code",
   "execution_count": 2,
   "metadata": {},
   "outputs": [
    {
     "data": {
      "text/plain": [
       "\"\\n# Plot S12 magnitude and phase\\naxs[2, 0].plot(frequency, s12_mag)\\naxs[2, 0].set_title('S12 Magnitude')\\naxs[2, 0].set_xlabel('Frequency (Hz)')\\naxs[2, 0].set_ylabel('Magnitude (dB)')\\n\\naxs[2, 1].plot(frequency, s12_phase, color='orange', linewidth=0.8)\\naxs[2, 1].set_title('S12 Phase')\\naxs[2, 1].set_xlabel('Frequency (Hz)')\\naxs[2, 1].set_ylabel('Phase (degrees)')\\n\\n# Plot S22 magnitude and phase\\naxs[3, 0].plot(frequency, s22_mag)\\naxs[3, 0].set_title('S22 Magnitude')\\naxs[3, 0].set_xlabel('Frequency (Hz)')\\naxs[3, 0].set_ylabel('Magnitude (dB)')\\n\\naxs[3, 1].plot(frequency, s22_phase, color='orange', linewidth=0.8)\\naxs[3, 1].set_title('S22 Phase')\\naxs[3, 1].set_xlabel('Frequency (Hz)')\\naxs[3, 1].set_ylabel('Phase (degrees)')\\n\""
      ]
     },
     "execution_count": 2,
     "metadata": {},
     "output_type": "execute_result"
    }
   ],
   "source": [
    "def parameters(filename, plot_data=False):\n",
    "    # Read the data from the text file\n",
    "    data = np.loadtxt(filename, skiprows=5)\n",
    "\n",
    "    with open(filename, 'r') as file:\n",
    "        header = file.readlines()[4]\n",
    "\n",
    "    # Check if \"RI\" or \"MA\" is present in the 5th line\n",
    "    if \"RI\" in header:\n",
    "        frequency = data[:, 0]>0\n",
    "        s11_mag = np.abs(data[:, 1]+1j*data[:, 2])[data[:, 0]>0]\n",
    "        s11_phase = np.angle(data[:, 1]+1j*data[:, 2], deg=True)[data[:, 0]>0]\n",
    "        s21_mag = np.abs(data[:, 3]+1j*data[:, 4])[data[:, 0]>0]\n",
    "        s21_phase = np.angle(data[:, 3]+1j*data[:, 4], deg=True)[data[:, 0]>0]\n",
    "        s12_mag = np.abs(data[:, 5]+1j*data[:, 6])[data[:, 0]>0]\n",
    "        s12_phase = np.angle(data[:, 5]+1j*data[:, 6], deg=True)[data[:, 0]>0]\n",
    "        s22_mag = np.abs(data[:, 7]+1j*data[:, 8])[data[:, 0]>0]\n",
    "        s22_phase = np.angle(data[:, 7]+1j*data[:, 8], deg=True)[data[:, 0]>0]\n",
    "    elif \"MA\" in header:\n",
    "        frequency = data[:, 0]\n",
    "        s11_mag = data[:, 1]\n",
    "        s11_phase = data[:, 2]\n",
    "        s21_mag = data[:, 3]\n",
    "        s21_phase = data[:, 4]\n",
    "        s12_mag = data[:, 5]\n",
    "        s12_phase = data[:, 6]\n",
    "        s22_mag = data[:, 7]\n",
    "        s22_phase = data[:, 8]\n",
    "    \n",
    "    if plot_data == True:\n",
    "        plot(filename)\n",
    "    \n",
    "    return frequency, s11_mag, s11_phase, s21_mag, s21_phase\n",
    "\n",
    "'''\n",
    "# Plot S12 magnitude and phase\n",
    "axs[2, 0].plot(frequency, s12_mag)\n",
    "axs[2, 0].set_title('S12 Magnitude')\n",
    "axs[2, 0].set_xlabel('Frequency (Hz)')\n",
    "axs[2, 0].set_ylabel('Magnitude (dB)')\n",
    "\n",
    "axs[2, 1].plot(frequency, s12_phase, color='orange', linewidth=0.8)\n",
    "axs[2, 1].set_title('S12 Phase')\n",
    "axs[2, 1].set_xlabel('Frequency (Hz)')\n",
    "axs[2, 1].set_ylabel('Phase (degrees)')\n",
    "\n",
    "# Plot S22 magnitude and phase\n",
    "axs[3, 0].plot(frequency, s22_mag)\n",
    "axs[3, 0].set_title('S22 Magnitude')\n",
    "axs[3, 0].set_xlabel('Frequency (Hz)')\n",
    "axs[3, 0].set_ylabel('Magnitude (dB)')\n",
    "\n",
    "axs[3, 1].plot(frequency, s22_phase, color='orange', linewidth=0.8)\n",
    "axs[3, 1].set_title('S22 Phase')\n",
    "axs[3, 1].set_xlabel('Frequency (Hz)')\n",
    "axs[3, 1].set_ylabel('Phase (degrees)')\n",
    "'''\n"
   ]
  },
  {
   "cell_type": "code",
   "execution_count": 5,
   "metadata": {},
   "outputs": [],
   "source": [
    "def plot_parameters(title,frequency, s11_mag, s11_phase, s21_mag, s21_phase):    \n",
    "    # Create subplots\n",
    "    fig, axs = plt.subplots(2, 2, figsize=(5, 5))\n",
    "    print(title)\n",
    "    # Plot S11 magnitude and phase\n",
    "    axs[0, 0].plot(frequency, s11_mag)\n",
    "    axs[0, 0].set_title('$s_{11}$ Magnitude', size=10)\n",
    "    axs[0, 0].set_xlabel('Frequency (Hz)', size=8)\n",
    "    axs[0, 0].set_ylabel('Magnitude', size=8)\n",
    "\n",
    "    axs[0, 1].plot(frequency, s11_phase, color='orange', linewidth=0.8)\n",
    "    axs[0, 1].set_title('$s_{11}$ Phase', size=10)\n",
    "    axs[0, 1].set_xlabel('Frequency (Hz)', size=8)\n",
    "    axs[0, 1].set_ylabel('Phase (degrees)', size=8)\n",
    "\n",
    "    # Plot S21 magnitude and phase\n",
    "    axs[1, 0].plot(frequency, s21_mag)\n",
    "    axs[1, 0].set_title('$s_{21}$ Magnitude', size=10)\n",
    "    axs[1, 0].set_xlabel('Frequency (Hz)', size=8)\n",
    "    axs[1, 0].set_ylabel('Magnitude', size=8)\n",
    "\n",
    "    axs[1, 1].plot(frequency, s21_phase, color='orange', linewidth=0.8)\n",
    "    axs[1, 1].set_title('$s_{21}$ Phase', size=10)\n",
    "    axs[1, 1].set_xlabel('Frequency (Hz)', size=8)\n",
    "    axs[1, 1].set_ylabel('Phase (degrees)', size=8)\n",
    "    \n",
    "    plt.subplots_adjust(hspace=0.4, wspace=0.4)\n",
    "    plt.show()"
   ]
  }
 ],
 "metadata": {
  "kernelspec": {
   "display_name": "Python 3",
   "language": "python",
   "name": "python3"
  },
  "language_info": {
   "codemirror_mode": {
    "name": "ipython",
    "version": 3
   },
   "file_extension": ".py",
   "mimetype": "text/x-python",
   "name": "python",
   "nbconvert_exporter": "python",
   "pygments_lexer": "ipython3",
   "version": "3.11.4"
  },
  "orig_nbformat": 4
 },
 "nbformat": 4,
 "nbformat_minor": 2
}
