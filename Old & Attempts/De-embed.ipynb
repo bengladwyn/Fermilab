{
 "cells": [
  {
   "cell_type": "code",
   "execution_count": 121,
   "metadata": {},
   "outputs": [],
   "source": [
    "import numpy as np\n",
    "import matplotlib.pyplot as plt"
   ]
  },
  {
   "cell_type": "code",
   "execution_count": 122,
   "metadata": {},
   "outputs": [],
   "source": [
    "# Apparatus dimensions\n",
    "d = 0.004\n",
    "ID = 0.02\n",
    "OD = 0.08\n",
    "#lambda_c = 0.05703 Cutoff wavelength of the coaxial waveguide is 0 for TE10 mode\n",
    "\n",
    "# Speed of light\n",
    "c = 299792458\n",
    "\n",
    "# Permittivity and permeability of air\n",
    "epsilon_air = 1\n",
    "mu_air = 1"
   ]
  },
  {
   "attachments": {},
   "cell_type": "markdown",
   "metadata": {},
   "source": [
    "The following analysis uses Modern ferrites: Vol. 1, Chapter 7.3.1.1, Pages 167-168"
   ]
  },
  {
   "cell_type": "code",
   "execution_count": 127,
   "metadata": {},
   "outputs": [],
   "source": [
    "def findT (filename):\n",
    "    # Read the data from the text file\n",
    "    data = np.loadtxt(filename, skiprows=5)\n",
    " \n",
    "    # Extract the frequency and S-parameter values from the data\n",
    "    frequency = data[:, 0][100]\n",
    "    s11_mag = data[:, 1][100]\n",
    "    s11_phase = data[:, 2][100]\n",
    "    s21_mag = data[:, 3][100]\n",
    "    s21_phase = data[:, 4][100]\n",
    "    s12_mag = data[:, 5][100]\n",
    "    s12_phase = data[:, 6][100]\n",
    "    s22_mag = data[:, 7][100]\n",
    "    s22_phase = data[:, 8][100]\n",
    "\n",
    "    # Convert to complex s-parameters (DO WE NEED 10 or 20?)\n",
    "    s11 = 10 ** (s11_mag / 10) * np.exp(1j * np.deg2rad(s11_phase))\n",
    "    s21 = 10 ** (s21_mag / 10) * np.exp(1j * np.deg2rad(s21_phase))\n",
    "    s12 = 10 ** (s12_mag / 10) * np.exp(1j * np.deg2rad(s12_phase))\n",
    "    s22 = 10 ** (s22_mag / 10) * np.exp(1j * np.deg2rad(s22_phase))\n",
    "    \n",
    "    # Calculate the transfer matrix\n",
    "    T = np.zeros((2, 2), dtype=complex)\n",
    "    T[0, 0] = -(s11 * s22 + s12 * s21)\n",
    "    T[0, 1] = -s22 / s21\n",
    "    T[1, 0] = s11 / s21\n",
    "    T[1, 1] = 1 / s21\n",
    "\n",
    "    return frequency,T"
   ]
  },
  {
   "cell_type": "code",
   "execution_count": 128,
   "metadata": {},
   "outputs": [],
   "source": [
    "def TtoS(T):\n",
    "    t11 = T[0, 0]\n",
    "    t21 = T[0, 1]\n",
    "    t12 = T[1, 0]\n",
    "    t22 = T[1, 1]\n",
    "\n",
    "    s11 = t12 / t22\n",
    "    s21 = 1 / t22\n",
    "    s12 = (t11*t22-t12*t21)/t22\n",
    "    s22 = -t21 / t22\n",
    "    \n",
    "    return s11, s21, s12, s22"
   ]
  },
  {
   "cell_type": "code",
   "execution_count": 129,
   "metadata": {},
   "outputs": [
    {
     "name": "stdout",
     "output_type": "stream",
     "text": [
      "Relative permittivity:  (-0.3519707364122914+22.000856801221016j)\n",
      "Relative permeability:  (0.9334825879755239-39.136572437145425j)\n"
     ]
    }
   ],
   "source": [
    "freq, T_air = findT('07032023_Ferrite_Meas_Current/NO_SAMPLE_0A.S2P')  # T matrix of air\n",
    "freq, T_ferrite = findT('07032023_Ferrite_Meas_Current/FERRITE_SAMPLE_0A.S2P')  # T matrix of ferrite\n",
    "\n",
    "T_DUT = np.matmul(np.linalg.inv(T_air), T_ferrite)\n",
    "\n",
    "s11, s21, s12, s22 = TtoS(T_DUT)\n",
    "\n",
    "# Calculate the reflection and transmission coefficients\n",
    "K = (s11**2-s21**2+1)/(2*s11)\n",
    "R = K+np.sqrt(K**2-1)\n",
    "if np.abs(R) > 1:\n",
    "    R = K-np.sqrt(K**2-1)\n",
    "\n",
    "T = (s11+s21-R)/(1-(s11+s21)*R)\n",
    "\n",
    "# Calculate the relative permittivity and permeability\n",
    "lambda_0 = c / freq\n",
    "\n",
    "A = -((1/(2*np.pi*d)) * np.log(1/T))**2\n",
    "\n",
    "# Non-zero cut off wavelength\n",
    "#mu_r = np.sqrt(A) * (1+R)/(1-R) * 1/np.sqrt(1/lambda_0**2-1/lambda_c**2)\n",
    "#epsilon_r = (lambda_0**2 / mu_r ) * (1/lambda_c**2+ A)\n",
    "\n",
    "# Zero cut-off wavelength\n",
    "mu_r = np.sqrt(A) * (1+R)/(1-R) * 1/np.sqrt(1/lambda_0**2)\n",
    "epsilon_r = (lambda_0**2 / mu_r ) * (A)\n",
    "\n",
    "print('Relative permittivity: ', epsilon_r)\n",
    "print('Relative permeability: ', mu_r)"
   ]
  }
 ],
 "metadata": {
  "kernelspec": {
   "display_name": "Python 3",
   "language": "python",
   "name": "python3"
  },
  "language_info": {
   "codemirror_mode": {
    "name": "ipython",
    "version": 3
   },
   "file_extension": ".py",
   "mimetype": "text/x-python",
   "name": "python",
   "nbconvert_exporter": "python",
   "pygments_lexer": "ipython3",
   "version": "3.11.4"
  },
  "orig_nbformat": 4
 },
 "nbformat": 4,
 "nbformat_minor": 2
}
